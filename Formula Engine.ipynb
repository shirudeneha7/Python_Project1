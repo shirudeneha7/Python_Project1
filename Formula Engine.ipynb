{
 "cells": [
  {
   "cell_type": "code",
   "execution_count": 6,
   "id": "6c85787e",
   "metadata": {},
   "outputs": [
    {
     "name": "stdout",
     "output_type": "stream",
     "text": [
      "Enter an equation in x,y,z :x+y-z\n",
      "Enter value of x:2\n",
      "Enter value of y:3\n",
      "Enter value of z:4\n",
      "The solution is 1\n"
     ]
    }
   ],
   "source": [
    "def func(expr , x,y,z):\n",
    "    return eval(expr)\n",
    "input_expr = (input('Enter an equation in x,y,z :'))\n",
    "x=int(input(\"Enter value of x:\"))\n",
    "y=int(input(\"Enter value of y:\"))\n",
    "z=int(input(\"Enter value of z:\"))\n",
    "print(\"The solution is\",(func(input_expr,x,y,z)))\n"
   ]
  },
  {
   "cell_type": "code",
   "execution_count": null,
   "id": "ce5375ef",
   "metadata": {},
   "outputs": [],
   "source": []
  },
  {
   "cell_type": "code",
   "execution_count": null,
   "id": "16c8d1f9",
   "metadata": {},
   "outputs": [],
   "source": []
  }
 ],
 "metadata": {
  "kernelspec": {
   "display_name": "Python 3 (ipykernel)",
   "language": "python",
   "name": "python3"
  },
  "language_info": {
   "codemirror_mode": {
    "name": "ipython",
    "version": 3
   },
   "file_extension": ".py",
   "mimetype": "text/x-python",
   "name": "python",
   "nbconvert_exporter": "python",
   "pygments_lexer": "ipython3",
   "version": "3.8.11"
  }
 },
 "nbformat": 4,
 "nbformat_minor": 5
}
